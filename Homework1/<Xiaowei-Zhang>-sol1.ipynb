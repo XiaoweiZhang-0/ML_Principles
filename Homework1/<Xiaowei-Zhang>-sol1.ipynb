{
  "nbformat": 4,
  "nbformat_minor": 0,
  "metadata": {
    "anaconda-cloud": {},
    "kernelspec": {
      "name": "python3",
      "display_name": "Python 3"
    },
    "colab": {
      "name": "hw1.ipynb",
      "provenance": []
    },
    "language_info": {
      "name": "python"
    }
  },
  "cells": [
    {
      "cell_type": "markdown",
      "metadata": {
        "id": "18A_te-OjtZz"
      },
      "source": [
        "First, import some useful packages and set everything up (e.g., inline plotting)."
      ]
    },
    {
      "cell_type": "code",
      "metadata": {
        "collapsed": true,
        "id": "xrCH_GtajtZ1"
      },
      "source": [
        "%matplotlib inline\n",
        "\n",
        "import math\n",
        "import matplotlib.pyplot as plt\n",
        "import numpy as np\n",
        "import sklearn.datasets\n",
        "\n",
        "from math import sqrt"
      ],
      "execution_count": 9,
      "outputs": []
    },
    {
      "cell_type": "markdown",
      "metadata": {
        "id": "Txl_wpO_ozBD"
      },
      "source": [
        "# Linear Regression"
      ]
    },
    {
      "cell_type": "markdown",
      "metadata": {
        "id": "ObNIMxdKo-Oh"
      },
      "source": [
        "In **linear regression**, the model maps a vector $x \\in \\mathbb{R}^d$ to a continuous label $\\hat{y} \\in \\mathbb{R}$ using a learnable parameter $w \\in \\mathbb{R}^d$ by  \n",
        "$$\n",
        "w^\\top x = w_1 x_1 + \\cdots + w_d x_d \n",
        "$$\n",
        "which is linear in $x$ (hence the name). More generally, for any *fixed* function $\\phi: \\mathbb{R}^d \\rightarrow \\mathbb{R}^D$ (\"feature function\"), we can define a regression model $w \\in \\mathbb{R}^D$ that predicts  \n",
        "$$\n",
        "w^\\top \\phi(x) = w_1 \\phi_1(x) + \\cdots + w_D \\phi_D(x) \n",
        "$$\n",
        "which is still linear in $\\phi(x)$ (but not necessarily in $x$!). Note that in this formulation, the model doesn't have any explicit bias parameter (i.e., a learnable scalar constant in $x$). But this is without loss of generality. We can always make $\\phi_1(x) = 1$ for all $x$ so that $w_1 \\in \\mathbb{R}$ becomes the bias parameter.  "
      ]
    },
    {
      "cell_type": "markdown",
      "metadata": {
        "id": "obqf6aipxS4W"
      },
      "source": [
        "# Feature Function "
      ]
    },
    {
      "cell_type": "markdown",
      "metadata": {
        "id": "VyWBMJKfjtZ3"
      },
      "source": [
        "We can define the feature function $\\phi: \\mathbb{R}^d \\rightarrow \\mathbb{R}^D$ however we want. A natural choice for regression is polynomial feature expansion. The function below implements the expansion using a list of degrees. For instance, if we pass $[0, 1, \\ldots, m]$ as degrees with the original feature dimension $d$, the new representation has dimension $D = md+1$ as \n",
        "$$\n",
        "\\begin{align}\n",
        "   x = \\begin{bmatrix} x_1 \\\\ \\vdots \\\\ x_d \\end{bmatrix} \\in \\mathbb{R}^d\n",
        "   &&\\Longrightarrow&&\n",
        "  \\phi(x) = \\begin{bmatrix} 1 \\\\ x_1 \\\\ \\vdots \\\\ x_d \\\\ \\vdots \\\\ x_1^m \\\\ \\vdots \\\\ x_d^m \\end{bmatrix} \\in \\mathbb{R}^{md + 1}\n",
        "\\end{align}  \n",
        "$$\n",
        "where when the degree 0 is passed we only add a single feature (constant 1) since anything to the power of 0 is 1. On the other hand, for each nonzero degree $p \\neq 0$, we add $d$ new features $x_1^p \\ldots x_d^p$ corresponding to the element-wise exponentiation by $p$. We will also calculate the empirical means $\\mu \\in \\mathbb{R}^D$ and standard deviations $\\sigma \\in \\mathbb{R}^D$ of features on the training inputs $x^{(1)} \\ldots x^{(N)} \\in \\mathbb{R}^d$ *after the transform*, that is  \n",
        "$$\n",
        "\\begin{align}\n",
        "\\mu_j &= \\frac{1}{N} \\sum_{i=1}^N \\phi_j(x^{(i)}) &&\\forall j = 1 \\ldots D \\\\\n",
        "\\sigma_j &= \\sqrt{\\frac{1}{N-1} \\sum_{i=1}^N (\\phi_j(x^{(i)}) - \\mu_j)^2} &&\\forall j = 1 \\ldots D\n",
        "\\end{align}\n",
        "$$\n",
        "and use them to normalize the training data (i.e., make the training data have mean zero and variance 1 *after the transform*) for numerical stability. We will use the same $\\mu$ and $\\sigma$ to normalize test data so that normalization is consistent between training and testing.    "
      ]
    },
    {
      "cell_type": "code",
      "metadata": {
        "collapsed": true,
        "id": "PCf5IawDjtZ4"
      },
      "source": [
        "def polynomial_expansion(X, degrees, mu=None, sigma=None):\n",
        "  \"\"\"\n",
        "    Input:\n",
        "      X (N, d): Training data, each row is a d-dimensional input vector \n",
        "      degrees: List of degrees specifying the polynomial expansion\n",
        "      mu (D,): Feature means for normalization\n",
        "      sigma (D,): Feature standard deviations for normalization\n",
        "\n",
        "    Output:\n",
        "      X_new (N, D): Training data after expansion and normalization \n",
        "      mu (D,): See Input, if None is passed this is computed\n",
        "      sigma (D,): See Input, if None is passsed this is computed\n",
        "      X_new_unnormalized (N, D): Training data after expansion before normalization (for sanity check)\n",
        "  \"\"\"\n",
        "  N, d = X.shape\n",
        "    \n",
        "  # Calculate the dimension of the transformed feature vector phi(x)\n",
        "  D = (len(degrees) - 1) * d + 1 if 0 in degrees else len(degrees) * d\n",
        "      \n",
        "  X_new_unnormalized = np.empty([N, D])\n",
        "  if 0 in degrees:\n",
        "    X_new_unnormalized[:, 0] = 1\n",
        "    column = 1\n",
        "  else:\n",
        "    column = 0  # Track current column position\n",
        "      \n",
        "  for degree in degrees:\n",
        "    if degree != 0:\n",
        "      new_features = X ** degree  # (N, d)\n",
        "      X_new_unnormalized[:, column:column + d] = new_features  # Populate the next d columns              \n",
        "      column += d\n",
        "\n",
        "  # Normalize features (independently).\n",
        "  if mu is None or sigma is None:\n",
        "    mu = X_new_unnormalized.mean(0)\n",
        "    sigma = X_new_unnormalized.std(0)\n",
        "    sigma[sigma < 0.0001] = 1  # If the feature is constant, variance is zero. Avoid division by zero\n",
        "\n",
        "  X_new = (X_new_unnormalized - mu) / sigma\n",
        "  if 0 in degrees:\n",
        "    X_new[:, 0] = 1  # We don't normalize the bias dimension.\n",
        "\n",
        "  return X_new, mu, sigma, X_new_unnormalized"
      ],
      "execution_count": 10,
      "outputs": []
    },
    {
      "cell_type": "code",
      "metadata": {
        "id": "3av5APeUzX8q",
        "colab": {
          "base_uri": "https://localhost:8080/"
        },
        "outputId": "066d06ac-b3e4-49f8-a35f-f5a286143457"
      },
      "source": [
        "# Sanity check\n",
        "X = np.array([[2, 3], \n",
        "              [4, 5], \n",
        "              [-1, -8]])\n",
        "degrees = (0, 1, 2)\n",
        "\n",
        "X_new, mu, sigma, X_new_unnormalized = polynomial_expansion(X, degrees)\n",
        "\n",
        "print('Original X')\n",
        "print(X)\n",
        "print('\\nAfter expansion with degrees', degrees)\n",
        "print(X_new_unnormalized)\n",
        "print('\\nFinal normalized version')\n",
        "print(X_new)\n",
        "print('\\nFeature means after normalization')\n",
        "print(np.round(X_new.mean(0), decimals=14))\n",
        "print('\\nFeature standard deviations after normalization')\n",
        "print(X_new.std(0))"
      ],
      "execution_count": 11,
      "outputs": [
        {
          "output_type": "stream",
          "name": "stdout",
          "text": [
            "Original X\n",
            "[[ 2  3]\n",
            " [ 4  5]\n",
            " [-1 -8]]\n",
            "\n",
            "After expansion with degrees (0, 1, 2)\n",
            "[[ 1.  2.  3.  4.  9.]\n",
            " [ 1.  4.  5. 16. 25.]\n",
            " [ 1. -1. -8.  1. 64.]]\n",
            "\n",
            "Final normalized version\n",
            "[[ 1.          0.16222142  0.52489066 -0.46291005 -1.0245833 ]\n",
            " [ 1.          1.13554995  0.87481777  1.38873015 -0.33190726]\n",
            " [ 1.         -1.29777137 -1.39970842 -0.9258201   1.35649056]]\n",
            "\n",
            "Feature means after normalization\n",
            "[ 1. -0.  0.  0.  0.]\n",
            "\n",
            "Feature standard deviations after normalization\n",
            "[0. 1. 1. 1. 1.]\n"
          ]
        }
      ]
    },
    {
      "cell_type": "markdown",
      "metadata": {
        "id": "E2gCJ34Osh1J"
      },
      "source": [
        "# Least-Squares Estimate"
      ]
    },
    {
      "cell_type": "markdown",
      "metadata": {
        "id": "pBVEyU7fsjko"
      },
      "source": [
        "Let $(x^{(1)}, y^{(1)}) \\ldots (x^{(N)}, y^{(N)}) \\in \\mathbb{R}^d \\times \\mathbb{R}$ denote $N$ labeled examples for training a linear regression model and let $\\phi: \\mathbb{R}^d \\rightarrow \\mathbb{R}^D$ denote the feature transform we will use. The **least-squares estimate** (LSE) for the labeled data is a model $w^*$ that achieves the smallest sum of squared errors (hence the name), that is\n",
        "$$\n",
        "w^* \\in \\operatorname*{argmin}_{w \\in \\mathbb{R}^D}\\; \\sum_{i=1}^N (y^{(i)} - w^\\top \\phi(x^{(i)}))^2 \n",
        "$$\n",
        "The square-root of the loss is called **root-mean-square error (RMSE)** (which is more interpretable since it brings the unit back down from squaring).\n",
        "It is convenient to organize the training data as a data matrix $X \\in \\mathbb{R}^{N \\times d}$ and a label vector $y \\in \\mathbb{R}^N$. We will also write $\\phi(X) \\in \\mathbb{R}^{N \\times D}$ to denote the data matrix under row-wise feature transform. We can then rewrite the LSE in a linear algebraic form:\n",
        "$$\n",
        "w^* \\in \\operatorname*{argmin}_{w \\in \\mathbb{R}^D}\\; \\| y - \\phi(X) w\\|^2\n",
        "$$\n",
        "We know that the unique solution is given by $w^* = \\phi(X)^+ y$ where $\\phi(X)^+ \\in \\mathbb{R}^{D \\times N}$ is the [pseudo-inverse](https://en.wikipedia.org/wiki/Moore%E2%80%93Penrose_inverse) of $\\phi(X) \\in \\mathbb{R}^{N \\times D}$. In the class we mostly assume that $\\phi(X)$ is invertible (i.e., the feature columns are linearly independent, which is a reasonable assumption) in which case $\\phi(X)^+ = (\\phi(X)^\\top \\phi(X))^{-1} \\phi(X)$, but the pseudo-inverse solution is true even if $X$ is not invertible (as long as nonzero). See [Appendix F of this note](http://karlstratos.com/notes/policy_gradient.pdf) if you want to see a proof. \n"
      ]
    },
    {
      "cell_type": "code",
      "metadata": {
        "id": "IIon_xJMWUzN"
      },
      "source": [
        "class LinearRegressor:\n",
        "\n",
        "  def __init__(self, X_train=None, y_train=None, degrees=(0, 1)):\n",
        "    self.w = None  # Parameter\n",
        "    self.mu = None  # Feature means (computed from training data)\n",
        "    self.sigma = None  # Feature standard deviations (computed from training data)\n",
        "    self.degrees = degrees\n",
        "\n",
        "    # If given training data at initialization, compute the closed-form LSE.\n",
        "    if X_train is not None and y_train is not None:\n",
        "      X_train_new = self.feature_transform(X_train, train=True)\n",
        "      self.w = np.dot(np.linalg.pinv(X_train_new), y_train) \n",
        "\n",
        "  def feature_transform(self, X, train=False):\n",
        "    if train: \n",
        "      X_new, mu, sigma, _ = polynomial_expansion(X, self.degrees)\n",
        "      self.mu = mu\n",
        "      self.sigma = sigma\n",
        "    else:\n",
        "      assert self.mu is not None and self.sigma is not None\n",
        "      X_new = polynomial_expansion(X, self.degrees, self.mu, self.sigma)[0]\n",
        "\n",
        "    return X_new\n",
        "\n",
        "  def predict(self, X):\n",
        "    assert self.w is not None \n",
        "    X_new = self.feature_transform(X)\n",
        "    preds = np.dot(X_new, self.w)\n",
        "    return preds\n",
        "\n",
        "  def squared_loss(self, X, y):\n",
        "    preds = self.predict(X)\n",
        "    errors = y - np.squeeze(preds) \n",
        "    squared_loss = np.mean(errors ** 2)  # Average squared difference\n",
        "    return squared_loss    "
      ],
      "execution_count": 12,
      "outputs": []
    },
    {
      "cell_type": "markdown",
      "metadata": {
        "id": "LQkn6rzNjtZ5"
      },
      "source": [
        "# Synthetic Experiment\n",
        "\n"
      ]
    },
    {
      "cell_type": "markdown",
      "metadata": {
        "id": "7ico00HkjtZ5"
      },
      "source": [
        "Before we work on a real dataset with a multi-dimensional input space, let's explore regression in 1-dimensional inputs, which is easy to visualize. We will do this with a <i>synthetic</i> data domain, where we simply generate the data from a noisy model.\n",
        "Note that in this case, contrary to the real world scenario, we can ask how well the regression method recovers the true model; in the real world case this is of course not a meaningful question because we will never know the true model."
      ]
    },
    {
      "cell_type": "code",
      "metadata": {
        "id": "M00AwSPe5yc8"
      },
      "source": [
        "class TrueModel:\n",
        "\n",
        "  def __init__(self): \n",
        "    self.true_mapping = lambda x: np.sin(x * 1.7) + .1 * x ** 2 + 3\n",
        "    self.true_standard_deviation = 0.3\n",
        "\n",
        "  def sample(self, num_samples, left_end=-2, right_end=2):\n",
        "    # Get evenly separated inputs then jitter 'em. \n",
        "    X_clean = np.linspace(left_end, right_end, num_samples)\n",
        "    noise_x = np.random.uniform(-.1, .1, X_clean.shape)\n",
        "    X = np.expand_dims(X_clean + noise_x, axis=1)\n",
        "    \n",
        "    # Generate labels according to the true model.\n",
        "    y_clean = self.true_mapping(X)\n",
        "    noise_y = np.random.normal(0, self.true_standard_deviation, y_clean.shape)\n",
        "    y = np.squeeze(y_clean + noise_y)\n",
        "    \n",
        "    return X, y   \n",
        "\n",
        "  def visualize_samples(self, num_samples, left_end=-2, right_end=2):\n",
        "    X, y = self.sample(num_samples, left_end, right_end)\n",
        "    plt.plot(X, y, 'r*')\n",
        "    plt.xlabel('x')\n",
        "    plt.ylabel('y')\n",
        "\n",
        "    # Also plot the true mapping over dense x-axis ticks\n",
        "    xticks = np.expand_dims(np.arange(left_end, right_end, 0.01), axis=1)\n",
        "    plt.plot(xticks, self.true_mapping(xticks), 'r:')"
      ],
      "execution_count": 13,
      "outputs": []
    },
    {
      "cell_type": "code",
      "metadata": {
        "id": "vB_qAUK7_nXl",
        "colab": {
          "base_uri": "https://localhost:8080/",
          "height": 279
        },
        "outputId": "058e551e-a9b8-4e27-a054-be7441e0b049"
      },
      "source": [
        "true_model = TrueModel()\n",
        "true_model.visualize_samples(30, -3, 3)"
      ],
      "execution_count": 15,
      "outputs": [
        {
          "output_type": "display_data",
          "data": {
            "image/png": "[encoded data removed]",
            "text/plain": [
              "<Figure size 432x288 with 1 Axes>"
            ]
          },
          "metadata": {
            "needs_background": "light"
          }
        }
      ]
    },
    {
      "cell_type": "markdown",
      "metadata": {
        "id": "6FZ3Oe6vGa2t"
      },
      "source": [
        "Let's train models with various degrees on samples from the true model. We expect that more complex models can fit the *training* data better. Visualization helps us understand why. "
      ]
    },
    {
      "cell_type": "code",
      "metadata": {
        "id": "0H-qOuprHtQF",
        "colab": {
          "base_uri": "https://localhost:8080/",
          "height": 269
        },
        "outputId": "e17c258f-f6c7-4dc6-eca1-498d7cfd1985"
      },
      "source": [
        "X_train, y_train = true_model.sample(20, -3, 3)\n",
        "\n",
        "model_linear = LinearRegressor(X_train, y_train, (0, 1))\n",
        "model_quadratic = LinearRegressor(X_train, y_train, (0, 1, 2))\n",
        "model_cubic = LinearRegressor(X_train, y_train, range(0, 4))\n",
        "model_degree7 = LinearRegressor(X_train, y_train, range(0, 8))\n",
        "model_degree20 = LinearRegressor(X_train, y_train, range(0, 21))\n",
        "\n",
        "xticks = np.expand_dims(np.arange(-3, 3, 0.01), axis=1)\n",
        "plt.plot(X_train, y_train, 'r*')\n",
        "plt.plot(xticks, true_model.true_mapping(xticks), 'r:')\n",
        "plt.plot(xticks, model_linear.predict(xticks), 'k-')\n",
        "plt.plot(xticks, model_quadratic.predict(xticks), 'g-')\n",
        "plt.plot(xticks, model_cubic.predict(xticks), 'b-')\n",
        "plt.plot(xticks, model_degree7.predict(xticks), 'c-')\n",
        "plt.plot(xticks, model_degree20.predict(xticks), 'y-')\n",
        "\n",
        "plt.ylim(1,6);"
      ],
      "execution_count": 16,
      "outputs": [
        {
          "output_type": "display_data",
          "data": {
            "image/png": "[encoded data removed]",
            "text/plain": [
              "<Figure size 432x288 with 1 Axes>"
            ]
          },
          "metadata": {
            "needs_background": "light"
          }
        }
      ]
    },
    {
      "cell_type": "markdown",
      "metadata": {
        "id": "QzmFLPZkjtZ-"
      },
      "source": [
        "This shows that more complex models can fit the *training* data better, but we can already see that they will not necessarily be better at handling unseen input values (i.e., they are **overfitted**). We can evaluate these models numerically, by computing training loss (avg. squared error) as well as the test loss. "
      ]
    },
    {
      "cell_type": "code",
      "metadata": {
        "collapsed": true,
        "id": "UOy8FoAejtZ_",
        "colab": {
          "base_uri": "https://localhost:8080/"
        },
        "outputId": "05195e98-0fe6-4d27-d780-762db2ff4b9c"
      },
      "source": [
        "X_test, y_test = true_model.sample(100, -3, 3)  # Same model, but new samples\n",
        "max_degrees = [0, 1, 2, 3, 5, 7, 15, 25]\n",
        "\n",
        "print('\\t\\tTrain loss\\tTest loss\\n')\n",
        "for max_degree in max_degrees:\n",
        "  model = LinearRegressor(X_train, y_train, range(0, max_degree + 1))\n",
        "  loss_train = model.squared_loss(X_train, y_train)\n",
        "  loss_test = model.squared_loss(X_test, y_test)\n",
        "  print('Degree {:3d}:\\t{:.4f}\\t\\t{:.4f}'.format(max_degree, loss_train, loss_test))"
      ],
      "execution_count": 17,
      "outputs": [
        {
          "output_type": "stream",
          "name": "stdout",
          "text": [
            "\t\tTrain loss\tTest loss\n",
            "\n",
            "Degree   0:\t0.6420\t\t0.7009\n",
            "Degree   1:\t0.5865\t\t0.6629\n",
            "Degree   2:\t0.4497\t\t0.5785\n",
            "Degree   3:\t0.1667\t\t0.2356\n",
            "Degree   5:\t0.0279\t\t0.0740\n",
            "Degree   7:\t0.0119\t\t0.0667\n",
            "Degree  15:\t0.0045\t\t0.4929\n",
            "Degree  25:\t0.0000\t\t1887285.9329\n"
          ]
        }
      ]
    },
    {
      "cell_type": "markdown",
      "metadata": {
        "id": "XG9N5OucjtZ_"
      },
      "source": [
        "So, as expected, more complex models reduce training squared loss, but at some point along the complexity axis, the test squared loss starts increasing, due to overfitting (this is also graphically evident in the plot, of course).\n",
        "\n",
        "It would be interesting to see how this table would change if we had more training data than 20 training examples..."
      ]
    },
    {
      "cell_type": "markdown",
      "metadata": {
        "id": "ZJy68jj5jtZ_"
      },
      "source": [
        "# Real Dataset: Boston Housing"
      ]
    },
    {
      "cell_type": "markdown",
      "metadata": {
        "id": "JZHSzUEPjtaA"
      },
      "source": [
        "We are now ready for some more realistic experiments. Let's consider the Boston Housing data set, originally from the UCI data repository. It's packaged with the scikit-learn distribution, so it's easy to load it. It's in a rather fancy format, containing in addition to the raw data a description explaining what the features are.\n",
        "\n",
        "The task here is to predict median house prices (in circa 1980 dollars, so don't be shocked! :-) based on various measurements of the neighborhoods in Boston."
      ]
    },
    {
      "cell_type": "code",
      "metadata": {
        "id": "4qziX27tjtaA",
        "colab": {
          "base_uri": "https://localhost:8080/"
        },
        "outputId": "73d59054-21ca-4299-8052-f99819702fa4"
      },
      "source": [
        "boston_dataset = sklearn.datasets.load_boston()\n",
        "print(boston_dataset.DESCR)"
      ],
      "execution_count": 18,
      "outputs": [
        {
          "output_type": "stream",
          "name": "stdout",
          "text": [
            ".. _boston_dataset:\n",
            "\n",
            "Boston house prices dataset\n",
            "---------------------------\n",
            "\n",
            "**Data Set Characteristics:**  \n",
            "\n",
            "    :Number of Instances: 506 \n",
            "\n",
            "    :Number of Attributes: 13 numeric/categorical predictive. Median Value (attribute 14) is usually the target.\n",
            "\n",
            "    :Attribute Information (in order):\n",
            "        - CRIM     per capita crime rate by town\n",
            "        - ZN       proportion of residential land zoned for lots over 25,000 sq.ft.\n",
            "        - INDUS    proportion of non-retail business acres per town\n",
            "        - CHAS     Charles River dummy variable (= 1 if tract bounds river; 0 otherwise)\n",
            "        - NOX      nitric oxides concentration (parts per 10 million)\n",
            "        - RM       average number of rooms per dwelling\n",
            "        - AGE      proportion of owner-occupied units built prior to 1940\n",
            "        - DIS      weighted distances to five Boston employment centres\n",
            "        - RAD      index of accessibility to radial highways\n",
            "        - TAX      full-value property-tax rate per $10,000\n",
            "        - PTRATIO  pupil-teacher ratio by town\n",
            "        - B        1000(Bk - 0.63)^2 where Bk is the proportion of blacks by town\n",
            "        - LSTAT    % lower status of the population\n",
            "        - MEDV     Median value of owner-occupied homes in $1000's\n",
            "\n",
            "    :Missing Attribute Values: None\n",
            "\n",
            "    :Creator: Harrison, D. and Rubinfeld, D.L.\n",
            "\n",
            "This is a copy of UCI ML housing dataset.\n",
            "https://archive.ics.uci.edu/ml/machine-learning-databases/housing/\n",
            "\n",
            "\n",
            "This dataset was taken from the StatLib library which is maintained at Carnegie Mellon University.\n",
            "\n",
            "The Boston house-price data of Harrison, D. and Rubinfeld, D.L. 'Hedonic\n",
            "prices and the demand for clean air', J. Environ. Economics & Management,\n",
            "vol.5, 81-102, 1978.   Used in Belsley, Kuh & Welsch, 'Regression diagnostics\n",
            "...', Wiley, 1980.   N.B. Various transformations are used in the table on\n",
            "pages 244-261 of the latter.\n",
            "\n",
            "The Boston house-price data has been used in many machine learning papers that address regression\n",
            "problems.   \n",
            "     \n",
            ".. topic:: References\n",
            "\n",
            "   - Belsley, Kuh & Welsch, 'Regression diagnostics: Identifying Influential Data and Sources of Collinearity', Wiley, 1980. 244-261.\n",
            "   - Quinlan,R. (1993). Combining Instance-Based and Model-Based Learning. In Proceedings on the Tenth International Conference of Machine Learning, 236-243, University of Massachusetts, Amherst. Morgan Kaufmann.\n",
            "\n"
          ]
        }
      ]
    },
    {
      "cell_type": "markdown",
      "metadata": {
        "id": "yErL6bdr3o7P"
      },
      "source": [
        "## Data split"
      ]
    },
    {
      "cell_type": "markdown",
      "metadata": {
        "id": "IMrruVQ0jtaA"
      },
      "source": [
        "We will first shuffle the data; to make sure everyone is working with the same partitions, we will fix the seed of the pseudorandom number generator."
      ]
    },
    {
      "cell_type": "code",
      "metadata": {
        "collapsed": true,
        "id": "rNnZemfhjtaA"
      },
      "source": [
        "X_boston = boston_dataset.data  # Our data matrix\n",
        "y_boston = boston_dataset.target  # Our label vector \n",
        "\n",
        "np.random.seed(54321)  # Because the data is so small, different data randomizations may yield greatly different results.\n",
        "shuffled_row_indices = np.random.permutation(X_boston.shape[0])\n",
        "X_boston = X_boston[shuffled_row_indices, :]\n",
        "y_boston = y_boston[shuffled_row_indices]"
      ],
      "execution_count": 19,
      "outputs": []
    },
    {
      "cell_type": "markdown",
      "metadata": {
        "id": "0PLge5iDjtaB"
      },
      "source": [
        "It's a tiny dataset. Still, we need to partition the data into train, val, and test. Let's put approximately 70% in train, 15% in val, and 15% in test. Important: **DO NOT LOOK AT OR TOUCH THE TEST PORTION** until final evaluation. The test portion should be evaluated on *once* at the very end, after we're all done with model exploration and optimization based on training and validation portions."
      ]
    },
    {
      "cell_type": "code",
      "metadata": {
        "collapsed": true,
        "id": "7zmLbrf_jtaB",
        "colab": {
          "base_uri": "https://localhost:8080/"
        },
        "outputId": "c37dc11c-80e5-4561-a5e0-fd4828c13893"
      },
      "source": [
        "num_examples_total = X_boston.shape[0]\n",
        "num_examples_train = int(num_examples_total * 0.7)\n",
        "num_examples_val = int(num_examples_total * 0.15)\n",
        "num_examples_test = num_examples_total - num_examples_train - num_examples_val\n",
        "\n",
        "X_train = X_boston[0:num_examples_train, :]\n",
        "y_train = y_boston[0:num_examples_train]\n",
        "X_val = X_boston[num_examples_train:num_examples_train + num_examples_val, :]\n",
        "y_val = y_boston[num_examples_train:num_examples_train + num_examples_val]\n",
        "X_test = X_boston[num_examples_train + num_examples_val:, :]\n",
        "y_test = y_boston[num_examples_train + num_examples_val:]\n",
        "\n",
        "print('Num examples: {:d} train, {:d} validation, {:d} test'.format(num_examples_train, num_examples_val, num_examples_test))"
      ],
      "execution_count": 20,
      "outputs": [
        {
          "output_type": "stream",
          "name": "stdout",
          "text": [
            "Num examples: 354 train, 75 validation, 77 test\n"
          ]
        }
      ]
    },
    {
      "cell_type": "markdown",
      "metadata": {
        "id": "TPoyZCB117C7"
      },
      "source": [
        "## Data Staring"
      ]
    },
    {
      "cell_type": "markdown",
      "metadata": {
        "id": "sxsOk9y5z59a"
      },
      "source": [
        "Now that we have a data split, let's stare at data. In any machine learning task, it is essential to actually *look* at the raw data with our own eyes. Develop the habit of looking at data and model predictions yourself, rather than just reading or listening to what others say. "
      ]
    },
    {
      "cell_type": "code",
      "metadata": {
        "id": "8kNzsExA0k9p",
        "colab": {
          "base_uri": "https://localhost:8080/"
        },
        "outputId": "da7819af-adb4-4c2c-cb4e-1e315b2c9d5c"
      },
      "source": [
        "print('X_train', X_train.shape)\n",
        "print('y_train', y_train.shape)\n",
        "print('\\nHouse:', list(np.round(X_train[0, :], 2)))  \n",
        "print('\\nPrice:', y_train[0])  # Median house price in $1,000s"
      ],
      "execution_count": 21,
      "outputs": [
        {
          "output_type": "stream",
          "name": "stdout",
          "text": [
            "X_train (354, 13)\n",
            "y_train (354,)\n",
            "\n",
            "House: [0.25, 0.0, 9.9, 0.0, 0.54, 5.7, 77.7, 3.94, 4.0, 304.0, 18.4, 396.42, 11.5]\n",
            "\n",
            "Price: 16.2\n"
          ]
        }
      ]
    },
    {
      "cell_type": "markdown",
      "metadata": {
        "id": "wWY4ROMj2bDr"
      },
      "source": [
        "Note that the raw feature values are in greatly different scales, so data normalization will be important. We may also visiualize the house price (y) as a function of a particular feature, for instance the average number of rooms per dwelling (6th feature). "
      ]
    },
    {
      "cell_type": "code",
      "metadata": {
        "id": "5G0F5Dl-1vkG",
        "colab": {
          "base_uri": "https://localhost:8080/",
          "height": 279
        },
        "outputId": "56b0e697-18a1-444d-f595-583e867bdfe1"
      },
      "source": [
        "plt.plot(X_train[:, 5], y_train, 'r.')\n",
        "plt.xlabel('avg # rooms')\n",
        "plt.ylabel('house price');"
      ],
      "execution_count": 22,
      "outputs": [
        {
          "output_type": "display_data",
          "data": {
            "image/png": "[encoded data removed]",
            "text/plain": [
              "<Figure size 432x288 with 1 Axes>"
            ]
          },
          "metadata": {
            "needs_background": "light"
          }
        }
      ]
    },
    {
      "cell_type": "markdown",
      "metadata": {
        "id": "F1JxP-tc2h0-"
      },
      "source": [
        "So the more rooms, the pricier (not surprisingly). On the other hand, the price should be lower if there's more crime (per capita crime rate by town, 1st feature)."
      ]
    },
    {
      "cell_type": "code",
      "metadata": {
        "id": "NaaJYDtM2iRz",
        "colab": {
          "base_uri": "https://localhost:8080/",
          "height": 279
        },
        "outputId": "9ab0ae6c-00b8-4101-aeec-7689804d8591"
      },
      "source": [
        "plt.plot(X_train[:, 0], y_train, 'r.')\n",
        "plt.xlabel('per capta crime rate')\n",
        "plt.ylabel('house price');"
      ],
      "execution_count": 23,
      "outputs": [
        {
          "output_type": "display_data",
          "data": {
            "image/png": "[encoded data removed]",
            "text/plain": [
              "<Figure size 432x288 with 1 Axes>"
            ]
          },
          "metadata": {
            "needs_background": "light"
          }
        }
      ]
    },
    {
      "cell_type": "markdown",
      "metadata": {
        "id": "nfpLBwod74ho"
      },
      "source": [
        "## Training by Gradient Descent"
      ]
    },
    {
      "cell_type": "markdown",
      "metadata": {
        "id": "XVj6ReY677hr"
      },
      "source": [
        "The closed-form solution above is computationally convenient and useful for mathematical analysis, but \n",
        "\n",
        "1. It's specific to a particular loss (sum of squared errors) and model (linear regressor). In general, we won't have such a closed-form expression when we have different models/losses. \n",
        "\n",
        "2. Even in this case, it has issues with scalability. The solution involves taking the pseudo-inverse of $\\phi(X) \\in \\mathbb{R}^{N \\times D}$ which takes $O(N^2 D)$ time/memory (assuming $N \\geq D$). The *quadratic* dependence on the number of example means we cannot compute this in a tractable amount of time/memory unless $N$ is tiny.\n",
        "\n",
        "Thus we turn to **gradient descent**, a general method for optimizing any differentiable function. Unlike the closed-form solution, it's iterative: it starts from some initial parameter value and follows the negative gradient of the loss with respect to the parameter. Although doesn't yield the solution right away, if the loss is *convex* (as is the case here) it will eventually converge to an optimal solution (with a right step size). If the loss is not convex, there's no guarantee that it'll converge to the optimal solution, but it *will* converge to *some* locally optimal solution (which obviously depends on initialization)."
      ]
    },
    {
      "cell_type": "markdown",
      "metadata": {
        "id": "iRtnIT7g_Be8"
      },
      "source": [
        "## Gradient of the Squared Loss "
      ]
    },
    {
      "cell_type": "markdown",
      "metadata": {
        "id": "-64duYer_Hu2"
      },
      "source": [
        "Given $X \\in \\mathbb{R}^{N \\times d}$ (assume it's already feature transformed) and $y \\in \\mathbb{R}^N$, the (average) squared loss is a *function* $J: \\mathbb{R}^d \\rightarrow \\mathbb{R}$ that maps a particular value of model parameter $w \\in \\mathbb{R}^d$ to its associated loss on the data:\n",
        "$$\n",
        "J(w) = \\frac{1}{N} \\| y - X w\\|^2\n",
        "$$\n",
        "The **gradient** of $J$ (with respect to $w$, which is implied since we treat $J$ as a function of $w$) is also a *function*, denoted by $\\nabla J: \\mathbb{R}^d \\rightarrow \\mathbb{R}^d$, given by \n",
        "$$\n",
        "\\nabla J(w) = - \\frac{2}{N} X^\\top (y - X w)\n",
        "$$\n",
        "Make sure you can verify this yourself, either by reducing it to single-variable calculus and taking the partial derivative of $J(w)$ with respect to $w_j$ for $j = 1 \\ldots d$, or using [matrix calculus](https://www.google.com/search?q=matrix+cookbook&oq=matrix+cookboo&aqs=chrome.0.0i512j69i57j0i512l3j0i22i30l2.1982j0j7&sourceid=chrome&ie=UTF-8). In every step of gradient descent, we compute the gradient of $J$ at the current value of $w \\in \\mathbb{R}^d$, which yields a vector of the same length $\\nabla J(w) \\in \\mathbb{R}^d$ to be subtracted from $w$. "
      ]
    },
    {
      "cell_type": "code",
      "metadata": {
        "id": "q8mIVAhF_Xq7"
      },
      "source": [
        "def squared_loss_and_gradient(X, y, w, no_grad=False):  # Expects X already feature transformed\n",
        "  preds = np.dot(X, w)\n",
        "  errors = y - np.squeeze(preds) \n",
        "  loss = np.mean(errors **2)\n",
        "  if no_grad:\n",
        "    return loss\n",
        "  else: \n",
        "    grad = - 2 * np.mean(X * np.expand_dims(errors, axis=1), axis=0)\n",
        "    return loss, grad.reshape(w.shape)"
      ],
      "execution_count": 24,
      "outputs": []
    },
    {
      "cell_type": "markdown",
      "metadata": {
        "id": "95GQCcwoFL1x"
      },
      "source": [
        "## Gradient Descent Algorithm"
      ]
    },
    {
      "cell_type": "markdown",
      "metadata": {
        "id": "dZWhDK4wjtaB"
      },
      "source": [
        "Let's define a general-ish gradient descent routine. In general, gradient descent has various optimization-related \"hyperparameters\" that we may tune to make training more effective. But we'll keep things simple and stick with the most basic version: constant learning rate and early stopping based on validation loss."
      ]
    },
    {
      "cell_type": "code",
      "metadata": {
        "collapsed": true,
        "id": "BBMkBWXjjtaB"
      },
      "source": [
        "def gradient_descent(model, X_train, y_train, loss_and_gradient, X_val=None, y_val=None, lr=0.01, num_steps_max=10000, patience=10):\n",
        "  X_train_new = model.feature_transform(X_train, train=True)  \n",
        "  has_val = X_val is not None and y_val is not None\n",
        "  if has_val:\n",
        "    X_val_new = model.feature_transform(X_val)\n",
        "  model.w = np.zeros((X_train_new.shape[1]))  # Parameter initialized as a zero vector\n",
        "  losses = []  # Let's keep track of training loss\n",
        "  loss_val_best = float('inf')\n",
        "  death_count = 0\n",
        "\n",
        "  for t in range(num_steps_max):\n",
        "    loss, grad = loss_and_gradient(X_train_new, y_train, model.w)  # Generic function that returns loss/gradient at current w \n",
        "    losses.append(loss)\n",
        "    # TODO\n",
        "    # (1) Implement the gradient-based update of model.w. \n",
        "    model.w = model.w - lr*grad\n",
        "    # (2) Early stop if converged. One way to do this is as follows (if we have validation data). \n",
        "    #     Check if the validation loss is better than previous best. \n",
        "    #     If so, reset death_count to zero. If not, increase it by 1, and if it goes over patience call break. \n",
        "    if has_val:\n",
        "      loss_val_temp = loss_and_gradient(X_val_new, y_val, model.w, no_grad=True)\n",
        "      if loss_val_best > loss_val_temp:\n",
        "        loss_val_best = loss_val_temp\n",
        "        death_count = 0\n",
        "      else:\n",
        "        death_count = death_count + 1\n",
        "    if death_count > patience:\n",
        "      break\n",
        "\n",
        "  # Compute training loss and validation loss of the trained model\n",
        "  loss_train = loss_and_gradient(X_train_new, y_train, model.w, no_grad=True)\n",
        "  loss_val = loss_and_gradient(X_val_new, y_val, model.w, no_grad=True) if has_val else None\n",
        "\n",
        "  return losses, loss_train, loss_val"
      ],
      "execution_count": 25,
      "outputs": []
    },
    {
      "cell_type": "markdown",
      "metadata": {
        "id": "p1-YWD3KjtaC"
      },
      "source": [
        "You should be able to train a linear model with the code below; you can compare it to the closed form solution to make sure you get similar results."
      ]
    },
    {
      "cell_type": "code",
      "metadata": {
        "id": "8adGlVnYjtaC",
        "colab": {
          "base_uri": "https://localhost:8080/",
          "height": 299
        },
        "outputId": "5d06e1de-3a6f-475b-dd5d-9976aa143d20"
      },
      "source": [
        "model = LinearRegressor(degrees=(0, 1))\n",
        "\n",
        "# Training \n",
        "losses, loss_train, loss_val = gradient_descent(model, X_train, y_train, squared_loss_and_gradient, X_val, y_val, lr=0.01, num_steps_max=10000)  # Try changing lr and num steps\n",
        "print('Gradient descent [{:d} iter]: train RMSE {:.4f}, val RMSE {:.4f}'.format(len(losses), sqrt(loss_train), sqrt(loss_val)))\n",
        "\n",
        "# Plot the loss value over iterations, to observe the optimization process\n",
        "plt.plot(losses);\n",
        "\n",
        "# Compare with the optimal loss\n",
        "model_exact = LinearRegressor(X_train, y_train, degrees=(0, 1))\n",
        "loss_exact_train = model_exact.squared_loss(X_train, y_train)\n",
        "loss_exact_val = model_exact.squared_loss(X_val, y_val)\n",
        "print('Exact solution: train RMSE {:.4f}, val RMSE {:.4f}'.format(sqrt(loss_exact_train), sqrt(loss_exact_val)))\n"
      ],
      "execution_count": 26,
      "outputs": [
        {
          "output_type": "stream",
          "name": "stdout",
          "text": [
            "Gradient descent [1812 iter]: train RMSE 4.7747, val RMSE 4.8719\n",
            "Exact solution: train RMSE 4.7733, val RMSE 4.8748\n"
          ]
        },
        {
          "output_type": "display_data",
          "data": {
            "image/png": "[encoded data removed]",
            "text/plain": [
              "<Figure size 432x288 with 1 Axes>"
            ]
          },
          "metadata": {
            "needs_background": "light"
          }
        }
      ]
    },
    {
      "cell_type": "markdown",
      "metadata": {
        "id": "_3pdmbTHjtaC"
      },
      "source": [
        "Now we can explore some more feature spaces and do **model selection** based on validation loss."
      ]
    },
    {
      "cell_type": "code",
      "metadata": {
        "collapsed": true,
        "id": "dZjPLZ71jtaC",
        "colab": {
          "base_uri": "https://localhost:8080/"
        },
        "outputId": "8010eea7-d168-4cd0-a7cb-0936ccc3bf07"
      },
      "source": [
        "feature_sets = [(0,), (0, 1), (0, 1, 2), (0, 1, 2, 3)]  # Try others!\n",
        "\n",
        "best_loss_val = float('inf')\n",
        "best_model = None\n",
        "for feature_set in feature_sets:\n",
        "  model = LinearRegressor(degrees=feature_set)\n",
        "  losses, loss_train, loss_val = gradient_descent(model, X_train, y_train, squared_loss_and_gradient, X_val, y_val)\n",
        "  print('Model {:s}: {:d} iterations, train RMSE {:.4f}, val RMSE {:.4f}'.format(str(feature_set), len(losses), sqrt(loss_train), sqrt(loss_val)))\n",
        "  if loss_val < best_loss_val:\n",
        "    best_loss_val = loss_val\n",
        "    best_model = model\n",
        "\n",
        "print('-' * 79)\n",
        "print('Best performing model is {:s} with val RMSE {:.4f}'.format(str(best_model.degrees), sqrt(best_loss_val)))\n",
        "\n",
        "#I will pick the quadratic function model since it has the least RMSE on validation set"
      ],
      "execution_count": 69,
      "outputs": [
        {
          "output_type": "stream",
          "name": "stdout",
          "text": [
            "Model (0,): 1611 iterations, train RMSE 9.0911, val RMSE 9.8558\n",
            "Model (0, 1): 1812 iterations, train RMSE 4.7747, val RMSE 4.8719\n",
            "Model (0, 1, 2): 2330 iterations, train RMSE 3.9824, val RMSE 4.7008\n",
            "Model (0, 1, 2, 3): 918 iterations, train RMSE 3.9487, val RMSE 4.8508\n",
            "-------------------------------------------------------------------------------\n",
            "Best performing model is (0, 1, 2) with val RMSE 4.7008\n"
          ]
        }
      ]
    },
    {
      "cell_type": "markdown",
      "metadata": {
        "id": "C3UkOEATJjQQ"
      },
      "source": [
        "## Asymmetric Squared Loss"
      ]
    },
    {
      "cell_type": "markdown",
      "metadata": {
        "id": "iT4vVLA8Jl9Z"
      },
      "source": [
        "The generality of gradient descent allows us to optimize *any* loss as long as we can compute the gradient with respect to the model parmameter. Let's consider an asymmetric loss $l_\\alpha: \\mathbb{R} \\times \\mathbb{R} \\rightarrow [0, \\infty)$:\n",
        "$$\n",
        "l_\\alpha(\\hat{y}, y) = \\left\\{ \\begin{array}{rl}\n",
        "  \\alpha (\\hat{y} - y)^2 &\\mbox{ if $\\hat{y}<y$} \\\\\n",
        "  (\\hat{y} - y)^2 &\\mbox{ otherwise}\n",
        "       \\end{array} \\right.\n",
        "$$\n",
        "where $\\alpha \\geq 0$ is an additional hyperparameter specifying the relative weight of the loss on underestimating predictions.\n"
      ]
    },
    {
      "cell_type": "code",
      "metadata": {
        "collapsed": true,
        "id": "nnadui50jtaD"
      },
      "source": [
        "def asymmetric_squared_loss_and_gradient(X, y, w, no_grad=False, alpha=0.05):  # Expects X already feature transformed\n",
        "  # TODO: Implement. You should be able to copy and paste the code from squared_loss_and_gradient and modify it only a little bit. \n",
        "  preds = np.dot(X, w)\n",
        "  # print(len(y))\n",
        "  errors = y - np.squeeze(preds)\n",
        "  # print(errors[1][1])\n",
        "  loss = np.mean(np.where(errors > 0, alpha * (errors ** 2), errors ** 2))\n",
        "  # print(errors[1][1])\n",
        "  if no_grad:\n",
        "    return loss\n",
        "  else: \n",
        "    grad = - 2 * np.mean(X * np.expand_dims(errors, axis=1), axis=0)\n",
        "    return loss, grad.reshape(w.shape)"
      ],
      "execution_count": 83,
      "outputs": []
    },
    {
      "cell_type": "code",
      "metadata": {
        "collapsed": true,
        "id": "vWff6Qj2jtaD"
      },
      "source": [
        "# For convenience, we will define this lambda expression so we could call it inside GD without passing alpha to GD.\n",
        "def aloss(alpha):\n",
        "    return lambda X, y, w, no_grad=False: asymmetric_squared_loss_and_gradient(X, y, w, no_grad=no_grad, alpha=alpha)"
      ],
      "execution_count": 29,
      "outputs": []
    },
    {
      "cell_type": "markdown",
      "metadata": {
        "id": "VJvfGYQUjtaD"
      },
      "source": [
        "We can now train a linear regressor to optimize this asymmetric loss. The only change in the code is passing a different function to calculate the loss and gradient in the gradient descent algorithm. We'll do similar model selection based on the validation loss (which is the new asymmetric loss, not squared loss!)."
      ]
    },
    {
      "cell_type": "code",
      "metadata": {
        "collapsed": true,
        "id": "WCeXl1wwjtaE",
        "colab": {
          "base_uri": "https://localhost:8080/"
        },
        "outputId": "8764e1f4-c05b-4f7e-8733-dc22bdcd1ac0"
      },
      "source": [
        "alpha = 0.05  # We will penalize underestimation of housing prices by only 5% of the penalty for overestimation. \n",
        "\n",
        "best_loss_val_asym = float('inf')\n",
        "best_model_asym = None\n",
        "# TODO: Do model selection using the same feature sets you used for the symmetric loss. \n",
        "# You should be able to copy and paste the model selection code from before and modify it only a little bit. \n",
        "\n",
        "for feature_set in feature_sets:\n",
        "  model = LinearRegressor(degrees=feature_set)\n",
        "  losses, loss_train, loss_val = gradient_descent(model, X_train, y_train, asymmetric_squared_loss_and_gradient, X_val, y_val)\n",
        "  print('Model {:s}: {:d} iterations, train RMSE {:.4f}, val RMSE {:.4f}'.format(str(feature_set), len(losses), sqrt(loss_train), sqrt(loss_val)))\n",
        "  if loss_val < best_loss_val_asym:\n",
        "    best_loss_val_asym = loss_val\n",
        "    best_model_asym = model\n",
        "\n",
        "\n",
        "print('-' * 79)\n",
        "print('Best performing model is {:s} with val RASE {:.4f}'.format(str(best_model_asym.degrees), sqrt(best_loss_val_asym)))\n",
        "\n",
        "# will pick the linear model because it has the least val RMSE among the all four model I picked"
      ],
      "execution_count": 87,
      "outputs": [
        {
          "output_type": "stream",
          "name": "stdout",
          "text": [
            "Model (0,): 58 iterations, train RMSE 3.2949, val RMSE 3.4346\n",
            "Model (0, 1): 87 iterations, train RMSE 1.6803, val RMSE 1.9216\n",
            "Model (0, 1, 2): 82 iterations, train RMSE 1.7029, val RMSE 2.1333\n",
            "Model (0, 1, 2, 3): 80 iterations, train RMSE 1.7011, val RMSE 2.3146\n",
            "-------------------------------------------------------------------------------\n",
            "Best performing model is (0, 1) with val RASE 1.9216\n"
          ]
        }
      ]
    },
    {
      "cell_type": "markdown",
      "metadata": {
        "id": "MaXkDqCMi2UJ"
      },
      "source": [
        "## Final Evaluation"
      ]
    },
    {
      "cell_type": "markdown",
      "metadata": {
        "id": "ly1F6IKejtaE"
      },
      "source": [
        "Now that we have done model selection for both the regular squared loss and the new asymmetric loss, we can do final evaluation on the test portion. "
      ]
    },
    {
      "cell_type": "code",
      "metadata": {
        "id": "zSbYEbubjtaE",
        "colab": {
          "base_uri": "https://localhost:8080/"
        },
        "outputId": "77f56969-915e-4f95-f784-0c9378fbe747"
      },
      "source": [
        "# TODO: Implement final evaluation by computing sym/asym loss on best sym/asym models. Be careful to use the correct feature transform for each model.\n",
        "\n",
        "test_loss_sym_model_sym = gradient_descent(LinearRegressor(degrees = (0,1,2)), X_train, y_train, squared_loss_and_gradient, X_test, y_test)[2]  # Symmetric loss of symmetric model\n",
        "test_loss_sym_model_asym = gradient_descent(LinearRegressor(degrees = (0,1)), X_train, y_train, squared_loss_and_gradient, X_test, y_test)[2]  # Symmetric loss of asymmetric model\n",
        "test_loss_asym_model_sym = gradient_descent(LinearRegressor(degrees = (0,1,2)), X_train, y_train, asymmetric_squared_loss_and_gradient, X_test, y_test)[2]  # Asymmetric loss of symmetric model\n",
        "test_loss_asym_model_asym = gradient_descent(LinearRegressor(degrees = (0,1)), X_train, y_train, asymmetric_squared_loss_and_gradient, X_test, y_test)[2]  # Asymmetric loss of asymmetric model\n",
        "\n",
        "print('TEST RESULTS')\n",
        "print('                Sym loss | Asym loss')\n",
        "print('___________________________________')\n",
        "print('Sym model       {:.4f}  |  {:.4f}'.format(test_loss_sym_model_sym, test_loss_asym_model_sym))\n",
        "print('Asym model      {:.4f}  |  {:.4f}'.format(test_loss_sym_model_asym, test_loss_asym_model_asym))"
      ],
      "execution_count": 88,
      "outputs": [
        {
          "output_type": "stream",
          "name": "stdout",
          "text": [
            "TEST RESULTS\n",
            "                Sym loss | Asym loss\n",
            "___________________________________\n",
            "Sym model       11.6350  |  1.9839\n",
            "Asym model      17.3484  |  2.0025\n"
          ]
        }
      ]
    },
    {
      "cell_type": "markdown",
      "metadata": {
        "id": "_A1BNF95jtaF"
      },
      "source": [
        "What can we conclude from this comparison? Which model is \"better\", and in what sense? \n",
        "\n",
        "TODO: Write your answer here. \n",
        "From the test result shown above, the symmetric model gives best overall performance both on symmetric loss and asymmetric loss. We can see on asymmetric loss, the selected symmetric model has almost the same accuracy as the asymmetric model. Asymmetric model would better working when overestimation becomes intolerable. But symmetric model has far better accuracy on symmetric loss. Thus, the symmetric quadratic model would be the one to pick."
      ]
    }
  ]
}